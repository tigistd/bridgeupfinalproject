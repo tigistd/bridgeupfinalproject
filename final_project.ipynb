{
 "cells": [
  {
   "cell_type": "code",
   "execution_count": 7,
   "metadata": {},
   "outputs": [],
   "source": [
    "from astrodbkit import astrodb"
   ]
  },
  {
   "cell_type": "code",
   "execution_count": 8,
   "metadata": {},
   "outputs": [
    {
     "name": "stdout",
     "output_type": "stream",
     "text": [
      "Database ready for use\n"
     ]
    }
   ],
   "source": [
    "db = astrodb.Database(\"bdnycdev1.db\")"
   ]
  },
  {
   "cell_type": "code",
   "execution_count": 9,
   "metadata": {},
   "outputs": [
    {
     "name": "stdout",
     "output_type": "stream",
     "text": [
      "\n",
      "Database path: bdnycdev1.db \n",
      "SQL path: bdnycdev1.sql\n",
      "\n",
      "Database Inventory\n",
      "==================\n",
      "SOURCES: 1938\n",
      "CHANGELOG: 205\n",
      "DATA_REQUESTS: 27\n",
      "IGNORE: 122\n",
      "INSTRUMENTS: 54\n",
      "MODES: 7\n",
      "PARALLAXES: 436\n",
      "PHOTOMETRY: 10358\n",
      "PROPER_MOTIONS: 599\n",
      "PUBLICATIONS: 607\n",
      "RADIAL_VELOCITIES: 143\n",
      "SPECTRA: 3614\n",
      "SPECTRAL_TYPES: 1511\n",
      "SYSTEMS: 15\n",
      "TELESCOPES: 38\n",
      "VERSIONS: 2\n"
     ]
    }
   ],
   "source": [
    "db.info()"
   ]
  },
  {
   "cell_type": "code",
   "execution_count": 10,
   "metadata": {},
   "outputs": [
    {
     "name": "stdout",
     "output_type": "stream",
     "text": [
      "\n",
      "The astrodb.Database class, hereafter db, provides a variety of methods to interact with a SQLite database file.\n",
      "Docstrings are available for all methods and can be accessed in the usual manner; eg, help(db.query).\n",
      "We list a few key methods below.\n",
      "\n",
      "    Methods to explore the database:\n",
      "    * db.query() - send SELECT commands to the database. Returns results in a variety of formats\n",
      "    * db.info() - get a quick summary of the contents of the database\n",
      "    * db.schema() - quickly examine the columns, types, etc of a specified table\n",
      "    * db.search() - search through a table to find entries matching the criteria\n",
      "    * db.inventory() - search for all entries that match the specified source_id\n",
      "    * db.references() - search for all entries in all tables matching the criteria. Useful for publications\n",
      "\n",
      "    Methods to modify the database:\n",
      "    * db.add_data() - add data to an existing table, either by providing a file or by providing the data itself\n",
      "    * db.table() - create or modify tables in the database\n",
      "    * db.modify() - send more general SQL commands to the database\n",
      "    * db.save() - export a copy of the database in ascii format, which can then be re-populated by astrodb.Database\n",
      "\n",
      "The full documentation can be found online at: http://astrodbkit.readthedocs.io/en/latest/index.html\n",
      "        \n"
     ]
    }
   ],
   "source": [
    "db.help()"
   ]
  },
  {
   "cell_type": "code",
   "execution_count": 11,
   "metadata": {},
   "outputs": [
    {
     "name": "stdout",
     "output_type": "stream",
     "text": [
      "\n",
      "SOURCES\n",
      "id         ra      dec             designation pub_shortname   unum shortname                   names components companions comments version\n",
      "-- ---------- -------- ----------------------- ------------- ------ --------- ----------------------- ---------- ---------- -------- -------\n",
      "72 128.992875 5.808556 2MASS J08355829+0548308       Reid08b U20307 0835+0548 2MASS J08355829+0548308          -          -        -     2.0\n",
      "\n",
      "PHOTOMETRY\n",
      "  id     band magnitude magnitude_unc system_id scope_id inst_id pub_shortname epoch comments version\n",
      "---- -------- --------- ------------- --------- -------- ------- ------------- ----- -------- -------\n",
      " 956   SDSS_u  24.13363      0.786999         1        1       -             -     -        -       -\n",
      " 957   SDSS_g  24.11857     0.4055846         1        1       -             -     -        -       -\n",
      " 958   SDSS_r  21.69148    0.09269092         1        1       -             -     -        -       -\n",
      " 959   SDSS_i   19.0747    0.01522073         1        1       -             -     -        -       -\n",
      " 960   SDSS_z  17.22393    0.01412763         1        1       -             -     -        -       -\n",
      "4307  WISE_W2    12.403         0.026         3        3       -        Cutr12     -        -     2.0\n",
      "4308  WISE_W3     12.25         0.378         3        3       -        Cutr12     -        -     2.0\n",
      "4309  2MASS_J    14.533         0.036         2        2       -             -     -        -       -\n",
      "4310 2MASS_Ks    13.168         0.034         2        2       -             -     -        -       -\n",
      "4311  WISE_W4     8.547             -         3        3       -        Cutr12     -        -     2.0\n",
      "4312  WISE_W1    12.711         0.025         3        3       -        Cutr12     -        -     2.0\n",
      "4313  2MASS_H    13.683         0.037         2        2       -             -     -        -       -\n",
      "\n",
      "PROPER_MOTIONS\n",
      "id proper_motion_ra proper_motion_ra_unc proper_motion_dec proper_motion_dec_unc v_tan v_tan_unc pub_shortname comments version\n",
      "-- ---------------- -------------------- ----------------- --------------------- ----- --------- ------------- -------- -------\n",
      "55           -0.099                0.021             -0.02                 0.021  11.0       3.0        Fahe09        -     2.0\n",
      "\n",
      "SPECTRA\n",
      "  id wav_units        flux_units wav_order regime pub_shortname   obs_date inst_id scope_id mode_id              filename comments best version\n",
      "---- --------- ----------------- --------- ------ ------------- ---------- ------- -------- ------- --------------------- -------- ---- -------\n",
      "1220         A     ergs-1cm-2A-1              OPT       Reid08b 2004-02-10       1       10       -           u20307.fits             -     2.0\n",
      "3140        um ergs s-1 cm-2 A-1         -    NIR        Cruz18 2011-12-07       6        7       1 U20307_0835+0548.fits        -    -     2.0\n",
      "\n",
      "SPECTRAL_TYPES\n",
      " id spectral_type spectral_type_unc gravity suffix regime pub_shortname adopted comments version gravity_pub\n",
      "--- ------------- ----------------- ------- ------ ------ ------------- ------- -------- ------- -----------\n",
      "477          12.0                 -       -      :    OPT       Reid08b       1        -     2.0           -\n"
     ]
    }
   ],
   "source": [
    "db.inventory(72)"
   ]
  },
  {
   "cell_type": "code",
   "execution_count": 12,
   "metadata": {},
   "outputs": [
    {
     "name": "stdout",
     "output_type": "stream",
     "text": [
      "\n",
      "SOURCES\n",
      "id        ra        dec designation pub_shortname   unum shortname                          names components companions  comments version\n",
      "-- --------- ---------- ----------- ------------- ------ --------- ------------------------------ ---------- ---------- --------- -------\n",
      "11 181.88942 -39.548306      TWA 27       Gizi02b U40008 1207-3932 TWA 27, 2MASS J12073346-393253 1352, 2028          - young/TWA     1.0\n",
      "\n",
      "PARALLAXES\n",
      " id parallax parallax_unc pub_shortname adopted comments version\n",
      "--- -------- ------------ ------------- ------- -------- -------\n",
      "128     19.1          0.4        Duco08       -              1.0\n",
      "\n",
      "PHOTOMETRY\n",
      "   id     band magnitude magnitude_unc system_id scope_id inst_id pub_shortname      epoch        comments version\n",
      "----- -------- --------- ------------- --------- -------- ------- ------------- ---------- --------------- -------\n",
      " 4031  WISE_W2    11.009          0.02         3        3       -        Cutr12          -               -     1.0\n",
      " 4032  WISE_W3     9.456         0.027         3        3       -        Cutr12          -               -     1.0\n",
      " 4033  2MASS_J    12.995         0.026         2        2       -        Cutr03          -               -     1.0\n",
      " 4034 2MASS_Ks    11.945         0.026         2        2       -        Cutr03          -               -     1.0\n",
      " 4035  WISE_W4     8.029         0.133         3        3       -        Cutr12          -               -     1.0\n",
      " 4036  WISE_W1    11.556         0.023         3        3       -        Cutr12          -               -     1.0\n",
      " 4037  2MASS_H    12.388         0.027         2        2       -        Cutr03          -               -     1.0\n",
      " 6960  2MASS_H     12.39          0.03         2        2       -        Chau04          - From Parallax_D     1.0\n",
      " 6961  2MASS_J      13.0          0.03         2        2       -        Moha07          - From Parallax_D     1.0\n",
      " 6962 2MASS_Ks     11.95          0.03         2        2       -        Chau04          - From Parallax_D     1.0\n",
      " 6964   MKO_L'     11.38           0.1         7        9       -        Jaya03          - From Parallax_D     1.0\n",
      "10487 IRAC_ch4    10.189         0.065         -        6      22          PID2 2005-07-09               -     1.0\n",
      "10488     [24]     8.089         0.111         -        6      22          PID2 2005-07-09               -     1.0\n",
      "\n",
      "PROPER_MOTIONS\n",
      "id proper_motion_ra proper_motion_ra_unc proper_motion_dec proper_motion_dec_unc v_tan v_tan_unc pub_shortname comments version\n",
      "-- ---------------- -------------------- ----------------- --------------------- ----- --------- ------------- -------- -------\n",
      " 8           -0.063                0.002            -0.023                 0.003  17.1       1.0        Gizi07        -     2.0\n",
      "\n",
      "SPECTRA\n",
      "  id wav_units    flux_units wav_order regime pub_shortname   obs_date inst_id scope_id mode_id                                                        filename comments best version\n",
      "---- --------- ------------- --------- ------ ------------- ---------- ------- -------- ------- --------------------------------------------------------------- -------- ---- -------\n",
      "   7        um ergs-1cm-2A-1              NIR        Alle13 2007-03-26       6        7       2                                                 2M1207_sxd.fits             -     1.0\n",
      "1522                                      OPT             -                                   -                                      U40008_1207-3932_davy.fits             -       -\n",
      "1869        um    normalized        58    NIR             - 2007-05-29       9        9       -                                      2m1207_58.29may07_ascii_hc   2m1207    -       -\n",
      "1870        um    normalized        59    NIR             - 2007-05-29       9        9       -                                      2m1207_59.29may07_ascii_hc   2m1207    -       -\n",
      "1871        um    normalized        61    NIR             - 2007-05-29       9        9       -                                      2m1207_61.29may07_ascii_hc   2m1207    -       -\n",
      "1872        um    normalized        62    NIR             - 2007-05-29       9        9       -                                      2m1207_62.29may07_ascii_hc   2m1207    -       -\n",
      "1873        um    normalized        63    NIR             - 2007-05-29       9        9       -                                      2m1207_63.29may07_ascii_hc   2m1207    -       -\n",
      "1874        um    normalized        64    NIR             - 2007-05-29       9        9       -                                      2m1207_64.29may07_ascii_hc   2m1207    -       -\n",
      "1875        um    normalized        65    NIR             - 2007-05-29       9        9       -                                      2m1207_65.29may07_ascii_hc   2m1207    -       -\n",
      "2843         A ergs-1cm-2A-1         -    NIR     FaheUnpub 2015-12-21      11       22       6 2MASS_J12073346-3932539_FIRE_ECH_obs151221_JF_red160226_JG.fits        -    -       -\n",
      "8457        um            Jy              MIR          PID2 2005-07-09      10        6     4,7                                                   1207-3932.txt             -     1.0\n",
      "\n",
      "SPECTRAL_TYPES\n",
      " id spectral_type spectral_type_unc gravity suffix regime pub_shortname adopted comments version gravity_pub\n",
      "--- ------------- ----------------- ------- ------ ------ ------------- ------- -------- ------- -----------\n",
      "167           8.0                 -       g      -    OPT       Gizi02b       -        -     1.0           -\n",
      "168           8.5                 -       -      -     IR        Chau04       -        -     1.0           -\n"
     ]
    }
   ],
   "source": [
    "db.inventory(11)"
   ]
  },
  {
   "cell_type": "code",
   "execution_count": 19,
   "metadata": {},
   "outputs": [
    {
     "data": {
      "text/html": [
       "<div>\n",
       "<style scoped>\n",
       "    .dataframe tbody tr th:only-of-type {\n",
       "        vertical-align: middle;\n",
       "    }\n",
       "\n",
       "    .dataframe tbody tr th {\n",
       "        vertical-align: top;\n",
       "    }\n",
       "\n",
       "    .dataframe thead th {\n",
       "        text-align: right;\n",
       "    }\n",
       "</style>\n",
       "<table border=\"1\" class=\"dataframe\">\n",
       "  <thead>\n",
       "    <tr style=\"text-align: right;\">\n",
       "      <th></th>\n",
       "      <th>ra</th>\n",
       "      <th>dec</th>\n",
       "      <th>shortname</th>\n",
       "    </tr>\n",
       "  </thead>\n",
       "  <tbody>\n",
       "    <tr>\n",
       "      <th>0</th>\n",
       "      <td>254.709737</td>\n",
       "      <td>18.333275</td>\n",
       "      <td>1658+1820</td>\n",
       "    </tr>\n",
       "    <tr>\n",
       "      <th>1</th>\n",
       "      <td>202.953870</td>\n",
       "      <td>-1.280556</td>\n",
       "      <td>1331-0116</td>\n",
       "    </tr>\n",
       "    <tr>\n",
       "      <th>2</th>\n",
       "      <td>352.756710</td>\n",
       "      <td>-4.105361</td>\n",
       "      <td>2331-0406</td>\n",
       "    </tr>\n",
       "    <tr>\n",
       "      <th>3</th>\n",
       "      <td>222.106791</td>\n",
       "      <td>10.533056</td>\n",
       "      <td>1448+1031</td>\n",
       "    </tr>\n",
       "    <tr>\n",
       "      <th>4</th>\n",
       "      <td>220.866530</td>\n",
       "      <td>3.281762</td>\n",
       "      <td>1443+0316</td>\n",
       "    </tr>\n",
       "    <tr>\n",
       "      <th>5</th>\n",
       "      <td>220.404834</td>\n",
       "      <td>-9.766389</td>\n",
       "      <td>1441-0945</td>\n",
       "    </tr>\n",
       "    <tr>\n",
       "      <th>6</th>\n",
       "      <td>219.868167</td>\n",
       "      <td>19.487472</td>\n",
       "      <td>1439+1929</td>\n",
       "    </tr>\n",
       "    <tr>\n",
       "      <th>7</th>\n",
       "      <td>262.047250</td>\n",
       "      <td>8.666389</td>\n",
       "      <td>1728+0839</td>\n",
       "    </tr>\n",
       "    <tr>\n",
       "      <th>8</th>\n",
       "      <td>197.104460</td>\n",
       "      <td>7.430889</td>\n",
       "      <td>None</td>\n",
       "    </tr>\n",
       "    <tr>\n",
       "      <th>9</th>\n",
       "      <td>262.873917</td>\n",
       "      <td>27.356472</td>\n",
       "      <td>1731+2721</td>\n",
       "    </tr>\n",
       "  </tbody>\n",
       "</table>\n",
       "</div>"
      ],
      "text/plain": [
       "           ra        dec  shortname\n",
       "0  254.709737  18.333275  1658+1820\n",
       "1  202.953870  -1.280556  1331-0116\n",
       "2  352.756710  -4.105361  2331-0406\n",
       "3  222.106791  10.533056  1448+1031\n",
       "4  220.866530   3.281762  1443+0316\n",
       "5  220.404834  -9.766389  1441-0945\n",
       "6  219.868167  19.487472  1439+1929\n",
       "7  262.047250   8.666389  1728+0839\n",
       "8  197.104460   7.430889       None\n",
       "9  262.873917  27.356472  1731+2721"
      ]
     },
     "execution_count": 19,
     "metadata": {},
     "output_type": "execute_result"
    }
   ],
   "source": [
    "db.query('SELECT ra,dec,shortname FROM sources LIMIT 10', fmt = \"pandas\")"
   ]
  },
  {
   "cell_type": "code",
   "execution_count": 20,
   "metadata": {},
   "outputs": [
    {
     "name": "stdout",
     "output_type": "stream",
     "text": [
      "WARNING: Unable to use converters\n"
     ]
    }
   ],
   "source": [
    "OPT_spectraltype = db.query(\"select sources.id as source_id, shortname, spectral_type,ra,dec from sources join spectral_types on sources.id=spectral_types.source_id where regime='OPT' order by source_id\", fmt='pandas')"
   ]
  },
  {
   "cell_type": "code",
   "execution_count": 21,
   "metadata": {},
   "outputs": [
    {
     "name": "stdout",
     "output_type": "stream",
     "text": [
      "           dec          ra   shortname  source_id spectral_type\n",
      "0    18.333275  254.709737   1658+1820          1          10.0\n",
      "1    -1.280556  202.953870   1331-0116          2          16.0\n",
      "2    10.533056  222.106791   1448+1031          4          14.0\n",
      "3    10.533056  222.106791   1448+1031          4          13.5\n",
      "4    -9.766389  220.404834   1441-0945          6          10.5\n",
      "5    19.487472  219.868167   1439+1929          7          11.0\n",
      "6    27.356472  262.873917   1731+2721         10          10.0\n",
      "7   -39.548306  181.889420   1207-3932         11           8.0\n",
      "8     0.734611  342.472709   2249+0044         14          14.0\n",
      "9     0.734611  342.472709   2249+0044         14          13.0\n",
      "10   29.355972  332.056790   2208+2921         15          13.0\n",
      "11  -15.172858  195.477670   1301-1510         16          11.0\n",
      "12    5.061583    6.924875   0027+0503         17           9.5\n",
      "13   40.066500  327.068041   2148+4003         19          16.5\n",
      "14   40.066500  327.068041   2148+4003         19          16.0\n",
      "15  -34.509869  165.540970   1102-3430         20           8.5\n",
      "16  -13.218944  170.454540   1121-1313         22           8.5\n",
      "17  -57.760528   21.191625   0124-5745         29          10.0\n",
      "18  -17.865083   73.360292   0453-1751         30          13.0\n",
      "19   -9.585167   63.831417   0415-0935         32          28.0\n",
      "20   17.167000  111.826001   0727+1710         34          28.0\n",
      "21  -34.037500   72.753833   0451-3402         36          10.5\n",
      "22   50.535778  137.158458   0908+5032         37          15.0\n",
      "23  -14.842611   62.121042   0408-1450         51          12.0\n",
      "24   48.794889  228.753459   1515+4847         53          16.0\n",
      "25   49.421917   49.537750   0318+4925         54           6.0\n",
      "26   42.863560  351.438780   2325+4251         55          18.0\n",
      "27  -44.485477  191.309000   1245-4429         61           9.5\n",
      "28  -49.893944   53.537667   0334-4953         63           9.0\n",
      "29  -15.836056  329.519000   2158-1550         69          14.0\n",
      "..         ...         ...         ...        ...           ...\n",
      "453 -73.208333   45.835083   0303-7312       1370          12.0\n",
      "454  -8.394476  253.897053   1655-0823       1371           7.0\n",
      "455  71.035500  216.264500   1425+7102       1372           8.0\n",
      "456 -53.319467  162.328812  1049-5319A       1374          18.0\n",
      "457 -53.319467  162.328812  1049-5319B       1375          21.0\n",
      "458  -9.934861  238.815541   1555-0956       1376          11.0\n",
      "459  35.295250  140.050959   0920+3517       1396          16.5\n",
      "460 -50.065281  171.666000   1126-5003       1411          14.5\n",
      "461  18.660694  219.751292   1439+1839       1452           7.0\n",
      "462 -20.330500  221.074100   1444-2019       1454           9.0\n",
      "463 -20.330500  221.074100   1444-2019       1454          10.0\n",
      "464  39.421944  246.584749   1626+3925       1468          14.0\n",
      "465  51.005600  309.094200   2036+5059       1490           7.5\n",
      "466  35.803639  168.106959   1112+3548       1557          14.5\n",
      "467  -0.681390  242.620850  1610-0040A       1591           7.0\n",
      "468  -0.681390  242.620850  1610-0040B       1592           7.0\n",
      "469  39.816430  262.048100        None       1593          15.0\n",
      "470  39.816430  262.048100        None       1594          17.0\n",
      "471  34.497972  142.390167   0929+3429       1696          18.0\n",
      "472  28.256611  269.044995   1756+2815       1707          11.0\n",
      "473  30.181667  357.841665   2351+3010       1708          15.5\n",
      "474 -39.001221  181.951510   1207-3900       1928          10.0\n",
      "475  -5.769047   83.841013   0535-0546       2024           6.5\n",
      "476  -5.769047   83.841013  0535-0546A       2025           6.5\n",
      "477  -5.769047   83.841013  0535-0546B       2026           7.0\n",
      "478 -39.548332  181.889450  1207-3932A       2028           8.0\n",
      "479  17.949611  315.314334   2101+1756       2029          17.0\n",
      "480  17.949611  315.314334   2101+1756       2029          17.5\n",
      "481 -19.777561   71.777171   0447-1946       2030           7.0\n",
      "482  -6.856639   14.677208   0058-0651       2044          10.0\n",
      "\n",
      "[483 rows x 5 columns]\n"
     ]
    }
   ],
   "source": [
    "print(OPT_spectraltype)"
   ]
  },
  {
   "cell_type": "code",
   "execution_count": 52,
   "metadata": {},
   "outputs": [
    {
     "name": "stdout",
     "output_type": "stream",
     "text": [
      "WARNING: Unable to use converters\n"
     ]
    }
   ],
   "source": [
    "IR_spectraltype = db.query(\"select sources.id as source_id, shortname, spectral_type,ra,dec from sources join spectral_types on sources.id=spectral_types.source_id where regime='IR' order by source_id\", fmt='pandas')"
   ]
  },
  {
   "cell_type": "code",
   "execution_count": 53,
   "metadata": {},
   "outputs": [
    {
     "name": "stdout",
     "output_type": "stream",
     "text": [
      "          dec       ra   shortname  source_id spectral_type\n",
      "0    -1.28056  202.954   1331-0116          2          20.0\n",
      "1     10.5331  222.107   1448+1031          4          14.0\n",
      "2     10.5331  222.107   1448+1031          4          13.5\n",
      "3    -39.5483  181.889   1207-3932         11           8.5\n",
      "4    0.734611  342.473   2249+0044         14          11.0\n",
      "5    0.734611  342.473   2249+0044         14          15.0\n",
      "6      29.356  332.057   2208+2921         15          13.0\n",
      "7     5.06158  6.92488   0027+0503         17           8.0\n",
      "8     5.06158  6.92488   0027+0503         17          10.0\n",
      "9     40.0665  327.068   2148+4003         19          16.0\n",
      "10    40.0665  327.068   2148+4003         19          16.5\n",
      "11   -34.5099  165.541   1102-3430         20           9.0\n",
      "12   -57.7605  21.1916   0124-5745         29          10.0\n",
      "13   -9.58517  63.8314   0415-0935         32          28.0\n",
      "14     17.167  111.826   0727+1710         34          27.0\n",
      "15   -21.8667   92.645  0610-2152B         35          27.0\n",
      "16    50.5358  137.158   0908+5032         37          19.0\n",
      "17   -14.8426   62.121   0408-1450         51          14.5\n",
      "18    48.7949  228.753   1515+4847         53          16.0\n",
      "19   -44.4855  191.309   1245-4429         61           9.5\n",
      "20   -44.4855  191.309   1245-4429         61           9.0\n",
      "21    32.2097  156.468   1025+3212         70          17.5\n",
      "22    29.8134  238.246   1552+2948         80          11.0\n",
      "23    29.8134  238.246   1552+2948         80          10.0\n",
      "24    -24.397  236.947   1547-2423         83          10.0\n",
      "25    9.68744  237.968   1551+0941         84          15.0\n",
      "26    18.3529  9.06738   0036+1821         86          14.0\n",
      "27    -28.477  79.7498   0518-2828         90          21.0\n",
      "28    -27.946  79.6923   0518-2756         91          11.0\n",
      "29   -3.44964   40.298   0241-0326         98          11.0\n",
      "..        ...      ...         ...        ...           ...\n",
      "473  -56.9751  57.5013   0350-5658       2068          31.0\n",
      "474   28.0968  126.281   0825+2805       2070          30.5\n",
      "475   84.0196  181.518   1206+8401       2072          30.0\n",
      "476   2.67059  358.512   2354+0240       2074          31.0\n",
      "477  -2.47361  69.4004  0437-0228b       2075          25.0\n",
      "478         0      280     Jupiter       2092          35.0\n",
      "479  -67.0536  4.61805   0018-6703       2097          10.0\n",
      "480  -62.4335  4.80405   0019-6226       2098          11.0\n",
      "481  -64.0647  9.56205   0038-6403       2099           9.5\n",
      "482  -52.0097  20.2131   0120-5200       2100          11.0\n",
      "483  -53.4509  36.7358   0226-5327       2102          10.0\n",
      "484  -55.1963  40.2735   0241-5511       2103          11.0\n",
      "485  -29.0755  55.5388   0342-2904       2104          10.0\n",
      "486  -74.9871  328.702   2154-7459       2106           9.5\n",
      "487  -59.1085  338.898   2235-5906       2107           8.5\n",
      "488  -66.3135  121.811   0806-661B       2108          31.0\n",
      "489   51.8918   4.7148   0018+5153       2110          17.0\n",
      "490   57.8267   7.7921   0031+5749       2111          19.0\n",
      "491   15.2433  57.2893   0349+1514       2112          17.0\n",
      "492  -12.2713  71.8769   0447-1216       2113          22.0\n",
      "493   52.6087  76.7092   0506+5236       2114          24.5\n",
      "494    41.032  100.523   0642+4101       2115          19.0\n",
      "495  -29.6682   319.31   2117-2940       2117          20.0\n",
      "496   33.0207  331.606   2206+3301       2118          21.5\n",
      "497     19.88  334.119   2216+1952       2119          23.0\n",
      "498  -64.2586  109.536   0718-6415       2120          25.0\n",
      "499   15.7254  55.7994   0343+1543       2121          25.0\n",
      "500  -9.45087  89.1756   0556-0927       2122          25.0\n",
      "501  -21.4561  94.8093   0619-2127       2123          22.0\n",
      "502  -60.2491  102.504  0650-6014B       2125          17.0\n",
      "\n",
      "[503 rows x 5 columns]\n"
     ]
    }
   ],
   "source": [
    "print(IR_spectraltype)"
   ]
  },
  {
   "cell_type": "code",
   "execution_count": 69,
   "metadata": {},
   "outputs": [
    {
     "data": {
      "text/plain": [
       "503"
      ]
     },
     "execution_count": 69,
     "metadata": {},
     "output_type": "execute_result"
    }
   ],
   "source": [
    "len(IR_spectraltype)"
   ]
  },
  {
   "cell_type": "code",
   "execution_count": 27,
   "metadata": {},
   "outputs": [
    {
     "name": "stdout",
     "output_type": "stream",
     "text": [
      "WARNING: Unable to use converters\n"
     ]
    }
   ],
   "source": [
    "NIR_spectraltype = db.query(\"select sources.id as source_id, shortname, spectral_type,ra,dec from sources join spectral_types on sources.id=spectral_types.source_id where regime='NIR' order by source_id\", fmt='pandas')"
   ]
  },
  {
   "cell_type": "code",
   "execution_count": 28,
   "metadata": {},
   "outputs": [
    {
     "name": "stdout",
     "output_type": "stream",
     "text": [
      "          dec          ra  shortname  source_id  spectral_type\n",
      "0   -4.105361  352.756710  2331-0406          3            8.0\n",
      "1  -37.628833   15.712500  0102-3737        107            8.0\n",
      "2  -11.012096  358.021136  2352-1100        146            8.0\n",
      "3    5.150606  289.240092  1916+0508        300            8.0\n",
      "4   20.728167  231.558541  1526+2043        353           15.0\n",
      "5   16.204361  118.099580  0752+1612        358            6.0\n",
      "6   -2.997467  351.483520  2325-0259        384           13.0\n",
      "7  -10.239046  148.338620  0953-1014        415            7.5\n",
      "8  -13.441167  350.302250  2321-1326        433           11.0\n",
      "9    0.920476  356.412659  2345+0055        525            9.0\n",
      "10 -30.258694   32.660708  0210-3015        579            9.5\n",
      "11  32.110361   43.499167  0253+3206        726            6.0\n",
      "12 -28.673694  343.716417  2254-2840        754           11.0\n",
      "13  37.046108  108.516439  0714+3702        849            7.5\n",
      "14  -8.394476  253.897053  1655-0823       1371            7.0\n",
      "15 -75.348056  327.576917       None       1821           28.0\n",
      "16  -6.856639   14.677208  0058-0651       2044           11.0\n"
     ]
    }
   ],
   "source": [
    "print(NIR_spectraltype)"
   ]
  },
  {
   "cell_type": "code",
   "execution_count": 29,
   "metadata": {},
   "outputs": [
    {
     "data": {
      "text/plain": [
       "17"
      ]
     },
     "execution_count": 29,
     "metadata": {},
     "output_type": "execute_result"
    }
   ],
   "source": [
    "len(NIR_spectraltype)"
   ]
  },
  {
   "cell_type": "code",
   "execution_count": 73,
   "metadata": {},
   "outputs": [
    {
     "data": {
      "text/plain": [
       "483"
      ]
     },
     "execution_count": 73,
     "metadata": {},
     "output_type": "execute_result"
    }
   ],
   "source": [
    "len(OPT_spectraltype)"
   ]
  },
  {
   "cell_type": "code",
   "execution_count": 74,
   "metadata": {},
   "outputs": [
    {
     "ename": "TypeError",
     "evalue": "'DataFrame' object is not callable",
     "output_type": "error",
     "traceback": [
      "\u001b[0;31m---------------------------------------------------------------------------\u001b[0m",
      "\u001b[0;31mTypeError\u001b[0m                                 Traceback (most recent call last)",
      "\u001b[0;32m<ipython-input-74-99df263b9641>\u001b[0m in \u001b[0;36m<module>\u001b[0;34m\u001b[0m\n\u001b[0;32m----> 1\u001b[0;31m \u001b[0mprint\u001b[0m\u001b[0;34m(\u001b[0m\u001b[0mNIR_spectraltype\u001b[0m\u001b[0;34m(\u001b[0m\u001b[0;34m\"spectral_type\"\u001b[0m\u001b[0;34m)\u001b[0m\u001b[0;34m)\u001b[0m\u001b[0;34m\u001b[0m\u001b[0;34m\u001b[0m\u001b[0m\n\u001b[0m",
      "\u001b[0;31mTypeError\u001b[0m: 'DataFrame' object is not callable"
     ]
    }
   ],
   "source": [
    "print(NIR_spectraltype(\"spectral_type\"))"
   ]
  },
  {
   "cell_type": "code",
   "execution_count": 75,
   "metadata": {},
   "outputs": [],
   "source": [
    "import numpy as np\n",
    "import matplotlib.mlab as mlab\n",
    "import matplotlib.pyplot as plt"
   ]
  },
  {
   "cell_type": "code",
   "execution_count": 117,
   "metadata": {},
   "outputs": [
    {
     "data": {
      "text/plain": [
       "Text(0.5, 1.0, 'woosh1')"
      ]
     },
     "execution_count": 117,
     "metadata": {},
     "output_type": "execute_result"
    },
    {
     "data": {
      "image/png": "[encoded data removed]",
      "text/plain": [
       "<Figure size 432x288 with 1 Axes>"
      ]
     },
     "metadata": {
      "needs_background": "light"
     },
     "output_type": "display_data"
    }
   ],
   "source": [
    "plt.hist(NIR_spectraltype[\"spectral_type\"], bins = 30)\n",
    "plt.xlabel('Spectral type')\n",
    "plt.ylabel('# of Brown Dwarfs')\n",
    "plt.title('woosh1')"
   ]
  },
  {
   "cell_type": "code",
   "execution_count": 82,
   "metadata": {},
   "outputs": [
    {
     "ename": "TypeError",
     "evalue": "'DataFrame' object is not callable",
     "output_type": "error",
     "traceback": [
      "\u001b[0;31m---------------------------------------------------------------------------\u001b[0m",
      "\u001b[0;31mTypeError\u001b[0m                                 Traceback (most recent call last)",
      "\u001b[0;32m<ipython-input-82-8ede3d3c0ce4>\u001b[0m in \u001b[0;36m<module>\u001b[0;34m\u001b[0m\n\u001b[0;32m----> 1\u001b[0;31m \u001b[0mlen\u001b[0m\u001b[0;34m(\u001b[0m\u001b[0mNIR_spectraltype\u001b[0m\u001b[0;34m(\u001b[0m\u001b[0;34m\"spectral_type\"\u001b[0m\u001b[0;34m)\u001b[0m\u001b[0;34m)\u001b[0m\u001b[0;34m\u001b[0m\u001b[0;34m\u001b[0m\u001b[0m\n\u001b[0m",
      "\u001b[0;31mTypeError\u001b[0m: 'DataFrame' object is not callable"
     ]
    }
   ],
   "source": [
    "len(NIR_spectraltype(\"spectral_type\"))"
   ]
  },
  {
   "cell_type": "code",
   "execution_count": 49,
   "metadata": {},
   "outputs": [
    {
     "name": "stdout",
     "output_type": "stream",
     "text": [
      "L1-L4  cannot be converted\n",
      "0355-type  cannot be converted\n"
     ]
    }
   ],
   "source": [
    "noptspectraltype = []\n",
    "for i in OPT_spectraltype['spectral_type']:\n",
    "    try:\n",
    "        float(i)\n",
    "        noptspectraltype.append(float(i))\n",
    "    except ValueError:\n",
    "        print(i , ' cannot be converted')"
   ]
  },
  {
   "cell_type": "code",
   "execution_count": 50,
   "metadata": {},
   "outputs": [
    {
     "name": "stdout",
     "output_type": "stream",
     "text": [
      "[10.0, 16.0, 14.0, 13.5, 10.5, 11.0, 10.0, 8.0, 14.0, 13.0, 13.0, 11.0, 9.5, 16.5, 16.0, 8.5, 8.5, 10.0, 13.0, 28.0, 28.0, 10.5, 15.0, 12.0, 16.0, 6.0, 18.0, 9.5, 9.0, 14.0, 12.0, 10.0, 10.0, 15.0, 10.0, 8.5, 9.0, 13.5, 12.0, 12.0, 13.5, 8.5, 17.0, 11.0, 10.0, 8.0, 10.0, 10.0, 12.0, 13.5, 12.5, 9.0, 10.0, 15.0, 15.0, 9.0, 11.5, 8.0, 12.0, 11.0, 8.0, 11.5, 13.0, 10.5, 10.0, 7.0, 12.0, 13.0, 9.0, 15.0, 10.5, 11.0, 7.5, 8.0, 9.0, 12.0, 13.5, 13.5, 7.0, 9.0, 6.5, 12.0, 12.0, 15.0, 10.0, 10.0, 8.0, 10.5, 9.0, 6.0, 11.5, 15.0, 9.5, 7.5, 15.0, 13.0, 10.0, 10.0, 11.5, 13.0, 12.0, 10.0, 12.0, 16.0, 6.0, 18.0, 15.0, 14.0, 10.0, 15.0, 9.0, 10.0, 9.0, 10.0, 14.0, 13.5, 18.0, 8.5, 9.0, 12.0, 15.0, 13.0, 12.0, 15.0, 10.5, 14.5, 27.0, 8.0, 27.0, 14.5, 15.0, 14.0, 11.0, 15.0, 9.0, 14.0, 10.0, 12.0, 15.0, 18.0, 16.0, 11.0, 8.0, 11.0, 8.0, 8.0, 8.0, 10.0, 10.0, 18.0, 11.0, 13.0, 17.0, 14.0, 13.0, 11.0, 11.0, 12.0, 11.0, 8.0, 14.0, 10.0, 11.0, 15.0, 10.0, 18.0, 17.0, 10.0, 14.5, 12.0, 11.0, 8.0, 11.0, 12.0, 13.0, 10.5, 10.5, 7.5, 10.0, 8.5, 17.0, 18.0, 9.0, 7.0, 7.0, 23.5, 14.0, 13.5, 14.0, 16.0, 16.5, 7.0, 8.0, 10.0, 15.0, 8.5, 14.0, 13.0, 10.0, 7.5, 11.0, 8.0, 7.5, 14.5, 13.0, 18.0, 13.5, 12.0, 14.0, 8.5, 10.0, 17.0, 14.5, 15.0, 10.0, 10.0, 11.0, 13.0, 12.0, 8.0, 12.0, 10.0, 8.0, 14.0, 10.0, 10.0, 20.0, 22.0, 14.5, 10.0, 13.5, 16.0, 14.0, 13.0, 8.0, 10.0, 14.0, 16.0, 17.0, 7.5, 10.0, 10.0, 9.0, 9.0, 8.0, 14.0, 10.0, 12.0, 11.5, 9.0, 10.0, 10.0, 12.0, 10.0, 16.5, 26.0, 17.0, 18.0, 17.5, 9.0, 12.0, 13.0, 13.0, 10.0, 12.0, 13.0, 12.0, 10.0, 13.0, 13.0, 12.0, 15.0, 15.0, 11.0, 9.0, 7.5, 13.0, 11.0, 11.0, 11.0, 10.0, 18.0, 13.0, 13.0, 10.0, 10.0, 10.0, 10.0, 13.5, 7.0, 13.0, 13.0, 14.0, 14.0, 12.5, 10.0, 10.0, 10.0, 25.0, 15.0, 11.0, 8.0, 9.0, 11.0, 12.0, 8.0, 12.0, 16.0, 13.0, 13.0, 10.0, 15.0, 14.0, 14.0, 11.0, 6.0, 7.0, 8.0, 9.0, 13.0, 27.0, 8.0, 13.5, 15.0, 10.0, 11.0, 10.0, 8.0, 13.0, 18.0, 17.5, 8.5, 9.0, 8.0, 10.0, 11.5, 13.0, 12.5, 14.5, 15.0, 8.0, 7.5, 16.0, 9.0, 8.0, 8.0, 12.0, 12.5, 9.5, 12.0, 15.0, 18.0, 7.0, 13.0, 10.0, 9.0, 11.0, 11.0, 18.0, 6.5, 26.0, 16.0, 13.0, 9.0, 11.0, 10.5, 7.0, 8.0, 14.0, 12.0, 8.0, 8.0, 11.0, 11.0, 10.0, 15.0, 15.0, 10.0, 13.0, 9.0, 11.0, 11.5, 10.0, 14.5, 17.5, 16.0, 12.0, 14.0, 8.0, 12.0, 10.0, 15.0, 9.0, 10.0, 12.0, 15.0, 15.0, 12.0, 8.0, 10.0, 11.0, 10.0, 10.0, 13.0, 10.0, 14.0, 13.0, 13.5, 12.0, 12.0, 10.0, 13.0, 8.0, 11.0, 15.0, 16.0, 14.0, 14.0, 17.0, 6.0, 11.5, 17.0, 11.0, 15.0, 7.5, 13.0, 9.0, 11.5, 16.0, 10.0, 7.0, 13.5, 17.0, 12.0, 15.0, 11.0, 6.5, 10.0, 14.0, 9.5, 11.0, 16.0, 27.0, 27.0, 8.0, 13.5, 15.0, 27.0, 17.0, 10.0, 11.0, 12.0, 7.0, 8.0, 18.0, 21.0, 11.0, 16.5, 14.5, 7.0, 9.0, 10.0, 14.0, 7.5, 14.5, 7.0, 7.0, 15.0, 17.0, 18.0, 11.0, 15.5, 10.0, 6.5, 6.5, 7.0, 8.0, 17.0, 17.5, 7.0, 10.0]\n"
     ]
    }
   ],
   "source": [
    "print(noptspectraltype)"
   ]
  },
  {
   "cell_type": "code",
   "execution_count": 24,
   "metadata": {},
   "outputs": [
    {
     "data": {
      "text/plain": [
       "'10.0'"
      ]
     },
     "execution_count": 24,
     "metadata": {},
     "output_type": "execute_result"
    }
   ],
   "source": [
    "i"
   ]
  },
  {
   "cell_type": "code",
   "execution_count": 41,
   "metadata": {},
   "outputs": [
    {
     "name": "stdout",
     "output_type": "stream",
     "text": [
      "10.0\n",
      "16.0\n",
      "14.0\n",
      "13.5\n",
      "10.5\n",
      "11.0\n",
      "10.0\n",
      "8.0\n",
      "14.0\n",
      "13.0\n",
      "13.0\n",
      "11.0\n",
      "9.5\n",
      "16.5\n",
      "16.0\n",
      "8.5\n",
      "8.5\n",
      "10.0\n",
      "13.0\n",
      "28.0\n",
      "28.0\n",
      "10.5\n",
      "15.0\n",
      "12.0\n",
      "16.0\n",
      "6.0\n",
      "18.0\n",
      "9.5\n",
      "9.0\n",
      "14.0\n",
      "12.0\n",
      "10.0\n",
      "10.0\n",
      "15.0\n",
      "10.0\n",
      "8.5\n",
      "9.0\n",
      "13.5\n",
      "12.0\n",
      "12.0\n",
      "13.5\n",
      "8.5\n",
      "17.0\n",
      "11.0\n",
      "10.0\n",
      "8.0\n",
      "10.0\n",
      "10.0\n",
      "12.0\n",
      "13.5\n",
      "12.5\n",
      "9.0\n",
      "10.0\n",
      "15.0\n",
      "15.0\n",
      "9.0\n",
      "11.5\n",
      "8.0\n",
      "12.0\n",
      "11.0\n",
      "8.0\n",
      "11.5\n",
      "13.0\n",
      "10.5\n",
      "10.0\n",
      "7.0\n",
      "12.0\n",
      "13.0\n",
      "9.0\n",
      "15.0\n",
      "10.5\n",
      "11.0\n",
      "7.5\n",
      "8.0\n",
      "9.0\n",
      "12.0\n",
      "13.5\n",
      "13.5\n",
      "7.0\n",
      "9.0\n",
      "6.5\n",
      "12.0\n",
      "12.0\n",
      "15.0\n",
      "10.0\n",
      "10.0\n",
      "8.0\n",
      "10.5\n",
      "9.0\n",
      "6.0\n",
      "11.5\n",
      "15.0\n",
      "9.5\n",
      "7.5\n",
      "15.0\n",
      "13.0\n",
      "10.0\n",
      "10.0\n",
      "11.5\n",
      "13.0\n",
      "12.0\n",
      "10.0\n",
      "12.0\n",
      "16.0\n",
      "6.0\n",
      "18.0\n",
      "15.0\n",
      "14.0\n",
      "10.0\n",
      "15.0\n",
      "9.0\n",
      "10.0\n",
      "9.0\n",
      "10.0\n",
      "14.0\n",
      "13.5\n",
      "18.0\n",
      "8.5\n",
      "9.0\n",
      "12.0\n",
      "15.0\n",
      "13.0\n",
      "12.0\n",
      "15.0\n",
      "10.5\n",
      "14.5\n",
      "27.0\n",
      "8.0\n",
      "27.0\n",
      "14.5\n",
      "15.0\n",
      "14.0\n",
      "11.0\n",
      "15.0\n",
      "9.0\n",
      "14.0\n",
      "10.0\n",
      "12.0\n",
      "15.0\n",
      "18.0\n",
      "16.0\n",
      "11.0\n",
      "8.0\n",
      "11.0\n",
      "8.0\n",
      "8.0\n",
      "8.0\n",
      "10.0\n",
      "10.0\n",
      "18.0\n",
      "11.0\n",
      "13.0\n",
      "17.0\n",
      "14.0\n",
      "13.0\n",
      "11.0\n",
      "11.0\n",
      "12.0\n",
      "11.0\n",
      "8.0\n",
      "14.0\n",
      "10.0\n",
      "11.0\n",
      "15.0\n",
      "10.0\n",
      "18.0\n",
      "17.0\n",
      "10.0\n",
      "14.5\n",
      "12.0\n",
      "11.0\n",
      "8.0\n",
      "11.0\n",
      "12.0\n",
      "13.0\n",
      "10.5\n",
      "10.5\n",
      "7.5\n",
      "10.0\n",
      "8.5\n",
      "17.0\n",
      "18.0\n",
      "9.0\n",
      "7.0\n",
      "7.0\n",
      "23.5\n",
      "14.0\n",
      "13.5\n",
      "14.0\n",
      "16.0\n",
      "16.5\n",
      "7.0\n",
      "8.0\n",
      "10.0\n",
      "15.0\n",
      "8.5\n",
      "14.0\n",
      "13.0\n",
      "10.0\n",
      "7.5\n",
      "11.0\n",
      "8.0\n",
      "7.5\n",
      "14.5\n",
      "13.0\n",
      "18.0\n",
      "13.5\n",
      "12.0\n",
      "14.0\n",
      "8.5\n",
      "10.0\n",
      "17.0\n",
      "14.5\n",
      "15.0\n",
      "10.0\n",
      "10.0\n",
      "11.0\n",
      "13.0\n",
      "12.0\n",
      "8.0\n",
      "12.0\n",
      "10.0\n",
      "8.0\n",
      "14.0\n",
      "10.0\n",
      "10.0\n",
      "20.0\n",
      "22.0\n",
      "14.5\n",
      "10.0\n",
      "13.5\n",
      "16.0\n",
      "14.0\n",
      "13.0\n",
      "8.0\n",
      "10.0\n",
      "14.0\n",
      "16.0\n",
      "17.0\n",
      "7.5\n",
      "10.0\n",
      "10.0\n",
      "9.0\n",
      "9.0\n",
      "8.0\n",
      "14.0\n",
      "10.0\n",
      "12.0\n",
      "11.5\n",
      "9.0\n",
      "10.0\n",
      "10.0\n",
      "12.0\n",
      "10.0\n",
      "16.5\n",
      "26.0\n",
      "17.0\n",
      "18.0\n",
      "17.5\n",
      "9.0\n",
      "12.0\n",
      "13.0\n",
      "13.0\n",
      "10.0\n",
      "12.0\n",
      "13.0\n",
      "12.0\n",
      "10.0\n",
      "13.0\n",
      "13.0\n",
      "12.0\n",
      "15.0\n",
      "15.0\n",
      "11.0\n",
      "9.0\n",
      "7.5\n",
      "13.0\n",
      "11.0\n",
      "11.0\n",
      "11.0\n",
      "10.0\n",
      "18.0\n",
      "13.0\n",
      "13.0\n",
      "10.0\n",
      "10.0\n",
      "10.0\n",
      "10.0\n",
      "13.5\n",
      "7.0\n",
      "13.0\n",
      "13.0\n",
      "14.0\n",
      "14.0\n",
      "12.5\n"
     ]
    },
    {
     "ename": "ValueError",
     "evalue": "could not convert string to float: 'L1-L4'",
     "output_type": "error",
     "traceback": [
      "\u001b[0;31m---------------------------------------------------------------------------\u001b[0m",
      "\u001b[0;31mValueError\u001b[0m                                Traceback (most recent call last)",
      "\u001b[0;32m<ipython-input-41-65ee20b91f79>\u001b[0m in \u001b[0;36m<module>\u001b[0;34m\u001b[0m\n\u001b[1;32m      1\u001b[0m \u001b[0;32mfor\u001b[0m \u001b[0mi\u001b[0m \u001b[0;32min\u001b[0m \u001b[0mOPT_spectraltype\u001b[0m\u001b[0;34m[\u001b[0m\u001b[0;34m'spectral_type'\u001b[0m\u001b[0;34m]\u001b[0m\u001b[0;34m:\u001b[0m\u001b[0;34m\u001b[0m\u001b[0;34m\u001b[0m\u001b[0m\n\u001b[0;32m----> 2\u001b[0;31m     \u001b[0mprint\u001b[0m\u001b[0;34m(\u001b[0m\u001b[0mfloat\u001b[0m\u001b[0;34m(\u001b[0m\u001b[0mi\u001b[0m\u001b[0;34m)\u001b[0m\u001b[0;34m)\u001b[0m\u001b[0;34m\u001b[0m\u001b[0;34m\u001b[0m\u001b[0m\n\u001b[0m",
      "\u001b[0;31mValueError\u001b[0m: could not convert string to float: 'L1-L4'"
     ]
    }
   ],
   "source": [
    "for i in OPT_spectraltype['spectral_type']:\n",
    "    print(float(i))"
   ]
  },
  {
   "cell_type": "code",
   "execution_count": 32,
   "metadata": {},
   "outputs": [
    {
     "ename": "ValueError",
     "evalue": "could not convert string to float: 'L1-L4'",
     "output_type": "error",
     "traceback": [
      "\u001b[0;31m---------------------------------------------------------------------------\u001b[0m",
      "\u001b[0;31mValueError\u001b[0m                                Traceback (most recent call last)",
      "\u001b[0;32m<ipython-input-32-f9ee90d480b6>\u001b[0m in \u001b[0;36m<module>\u001b[0;34m\u001b[0m\n\u001b[0;32m----> 1\u001b[0;31m \u001b[0mfloat\u001b[0m\u001b[0;34m(\u001b[0m\u001b[0;34m\"L1-L4\"\u001b[0m\u001b[0;34m)\u001b[0m\u001b[0;34m\u001b[0m\u001b[0;34m\u001b[0m\u001b[0m\n\u001b[0m",
      "\u001b[0;31mValueError\u001b[0m: could not convert string to float: 'L1-L4'"
     ]
    }
   ],
   "source": [
    "float(\"L1-L4\")"
   ]
  },
  {
   "cell_type": "code",
   "execution_count": 31,
   "metadata": {},
   "outputs": [
    {
     "data": {
      "text/plain": [
       "10"
      ]
     },
     "execution_count": 31,
     "metadata": {},
     "output_type": "execute_result"
    }
   ],
   "source": [
    "int(float(\"10.5\"))"
   ]
  },
  {
   "cell_type": "code",
   "execution_count": 51,
   "metadata": {},
   "outputs": [
    {
     "name": "stdout",
     "output_type": "stream",
     "text": [
      "L7+L8  cannot be converted\n"
     ]
    }
   ],
   "source": [
    "irspectraltype = []\n",
    "for i in IR_spectraltype['spectral_type']:\n",
    "    try:\n",
    "        float(i)\n",
    "        irspectraltype.append(float(i))\n",
    "    except ValueError:\n",
    "        print(i , ' cannot be converted')"
   ]
  },
  {
   "cell_type": "code",
   "execution_count": 52,
   "metadata": {},
   "outputs": [
    {
     "name": "stdout",
     "output_type": "stream",
     "text": [
      "[20.0, 14.0, 13.5, 8.5, 11.0, 15.0, 13.0, 8.0, 10.0, 16.0, 16.5, 9.0, 10.0, 28.0, 27.0, 27.0, 19.0, 14.5, 16.0, 9.5, 9.0, 17.5, 11.0, 10.0, 10.0, 15.0, 14.0, 21.0, 11.0, 11.0, 9.0, 9.0, 12.0, 13.0, 15.0, 11.0, 7.0, 27.0, 9.0, 9.0, 10.0, 10.5, 14.0, 9.0, 10.0, 10.0, 10.0, 16.0, 13.0, 16.0, 14.0, 6.0, 19.5, 14.0, 23.5, 13.0, 10.0, 10.0, 15.5, 18.0, 16.0, 8.5, 13.0, 14.0, 24.5, 26.5, 27.5, 20.0, 16.0, 8.5, 12.0, 12.0, 11.0, 11.0, 11.0, 12.0, 17.5, 18.0, 15.0, 11.0, 11.0, 14.0, 15.0, 10.0, 12.0, 20.0, 9.0, 14.5, 20.5, 23.0, 12.0, 14.0, 17.0, 17.0, 17.5, 8.0, 11.0, 14.0, 12.0, 15.5, 10.0, 9.0, 14.5, 10.0, 11.0, 11.0, 12.5, 10.0, 16.5, 12.0, 21.0, 22.5, 22.0, 13.5, 12.0, 14.0, 13.0, 10.0, 7.0, 9.0, 10.0, 14.0, 26.0, 15.5, 20.0, 16.0, 22.5, 13.0, 11.0, 13.0, 11.0, 21.5, 15.0, 13.0, 10.0, 13.0, 24.5, 11.0, 18.0, 15.0, 10.0, 10.0, 21.5, 12.5, 11.0, 10.0, 24.5, 26.0, 8.5, 15.0, 9.0, 11.0, 11.0, 25.0, 16.5, 17.5, 26.0, 11.0, 15.5, 12.0, 11.5, 13.0, 8.0, 11.0, 12.0, 15.0, 9.5, 16.0, 19.0, 11.0, 9.0, 14.5, 11.0, 19.0, 25.0, 10.0, 10.5, 7.0, 14.0, 9.0, 24.0, 15.5, 11.0, 14.0, 20.0, 10.5, 13.0, 8.0, 8.0, 13.0, 11.0, 12.5, 10.0, 13.0, 13.0, 13.0, 16.5, 11.0, 15.0, 17.0, 16.0, 17.5, 15.0, 9.0, 24.5, 18.0, 19.0, 28.5, 26.5, 27.5, 27.0, 14.0, 15.0, 24.5, 26.0, 7.0, 6.0, 28.0, 25.5, 26.0, 14.0, 15.0, 19.0, 29.0, 29.0, 28.0, 25.0, 26.0, 26.0, 25.5, 27.5, 28.0, 22.0, 25.0, 25.0, 19.5, 17.0, 19.0, 17.0, 26.5, 25.5, 25.5, 27.5, 26.5, 17.5, 21.5, 13.0, 11.0, 13.0, 24.5, 27.5, 28.5, 28.0, 9.0, 27.5, 29.0, 26.5, 27.5, 14.5, 10.0, 11.0, 21.0, 24.0, 6.0, 6.0, 6.0, 24.5, 25.0, 26.0, 21.0, 25.0, 25.0, 24.5, 9.0, 21.5, 20.0, 21.0, 22.5, 21.0, 20.0, 22.5, 8.0, 1.5, 24.5, 23.0, 22.0, 22.0, 5.0, 23.0, 23.0, 22.0, 25.5, 0.5, 1.0, 15.0, 1.0, 22.5, 22.5, 21.0, 22.5, 20.5, 22.5, 23.5, 25.0, 22.0, 20.0, 22.0, 20.0, 20.5, 10.0, 13.0, 25.5, 22.5, 22.0, 22.0, 26.0, -3.0, 1.0, 25.5, 4.0, -1.0, 8.0, 25.0, 3.0, 3.0, 9.5, 25.5, 7.0, 6.0, 25.5, 19.0, 7.0, 29.0, 17.0, 17.0, 22.5, 19.5, 17.0, 11.5, 13.0, 25.5, 28.0, 15.5, 15.5, 21.0, 26.0, 15.0, 14.0, 11.0, 17.5, 21.0, 18.0, 17.0, 11.0, 15.0, 28.5, 28.0, 28.5, 28.0, 28.0, 28.0, 28.0, 28.0, 28.5, 28.0, 25.0, 17.0, 17.0, 17.0, 17.5, 24.0, 20.0, 21.5, 12.5, 12.0, 27.0, 25.0, 19.0, 8.0, 26.0, 27.0, 23.0, 19.0, 24.5, 25.0, 27.5, 26.0, 26.0, 26.5, 27.0, 25.0, 26.0, 25.0, 26.0, 25.5, 26.0, 25.0, 20.0, 26.5, 26.0, 22.0, 23.0, 25.5, 26.0, 20.0, 26.0, 27.5, 27.0, 26.5, 26.0, 27.0, 15.0, 24.0, 25.5, 19.0, 24.0, 26.0, 27.0, 26.5, 25.0, 26.0, 26.0, 25.0, 24.5, 19.0, 27.0, 26.0, 25.0, 27.5, 20.5, 21.0, 19.0, 26.0, 27.0, 25.0, 23.0, 27.5, 19.0, 27.0, 27.0, 23.5, 30.0, 13.0, 11.0, 9.0, 9.0, 9.0, 27.0, 8.0, 8.0, 8.0, 30.0, 7.5, 17.0, 6.0, 14.0, 30.0, 30.0, 30.0, 30.5, 31.0, 30.0, 30.0, 30.0, 30.0, 31.0, 27.0, 29.5, 29.0, 30.0, 32.0, 31.0, 31.0, 30.5, 30.0, 31.0, 25.0, 35.0, 10.0, 11.0, 9.5, 11.0, 10.0, 11.0, 10.0, 9.5, 8.5, 31.0, 17.0, 19.0, 17.0, 22.0, 24.5, 19.0, 20.0, 21.5, 23.0, 25.0, 25.0, 25.0, 22.0, 17.0]\n"
     ]
    }
   ],
   "source": [
    "print(irspectraltype)"
   ]
  },
  {
   "cell_type": "code",
   "execution_count": 115,
   "metadata": {},
   "outputs": [
    {
     "data": {
      "image/png": "[encoded data removed]",
      "text/plain": [
       "<Figure size 432x288 with 1 Axes>"
      ]
     },
     "metadata": {
      "needs_background": "light"
     },
     "output_type": "display_data"
    }
   ],
   "source": [
    "num_bins = 30\n",
    "plt.hist(noptspectraltype, bins = 30)\n",
    "plt.xlabel('Spectral type')\n",
    "plt.ylabel('# of Brown Dwarfs')\n",
    "plt.title('jushtin bayber')\n",
    "plt.show()"
   ]
  },
  {
   "cell_type": "code",
   "execution_count": 116,
   "metadata": {},
   "outputs": [
    {
     "data": {
      "text/plain": [
       "Text(0.5, 1.0, 'how much wood would a woodchuck chuck')"
      ]
     },
     "execution_count": 116,
     "metadata": {},
     "output_type": "execute_result"
    },
    {
     "data": {
      "image/png": "[encoded data removed]",
      "text/plain": [
       "<Figure size 432x288 with 1 Axes>"
      ]
     },
     "metadata": {
      "needs_background": "light"
     },
     "output_type": "display_data"
    }
   ],
   "source": [
    "plt.hist(irspectraltype, bins = 30)\n",
    "plt.xlabel('Spectral type')\n",
    "plt.ylabel('# of Brown Dwarfs')\n",
    "plt.title('how much wood would a woodchuck chuck')"
   ]
  },
  {
   "cell_type": "code",
   "execution_count": null,
   "metadata": {},
   "outputs": [],
   "source": [
    "m= 0-9\n",
    "l = 10-19\n",
    "t = 20-29\n",
    "y = 30-39\n",
    "\"obafgkm\""
   ]
  },
  {
   "cell_type": "code",
   "execution_count": 31,
   "metadata": {},
   "outputs": [],
   "source": [
    "def plotCoords(optspectraltypes, irspectraltypes, nirspectraltypes):\n",
    "    import astropy.coordinates as coord\n",
    "    import astropy.units as u\n",
    "    import matplotlib.pyplot as plt\n",
    "    import numpy as np\n",
    "    # ===============================================\n",
    "    # Plotting coordinates\n",
    "    # ===============================================\n",
    "\n",
    "    # converting BDNYC database coordinates for plot\n",
    "    optspectraltypes_ra = coord.Angle(pd.to_numeric(optspectraltypes['ra']).fillna(np.nan).values*u.degree)\n",
    "    optspectraltypes_ra = optspectraltypes_ra.wrap_at(180*u.degree)\n",
    "    optspectraltypes_dec = coord.Angle(pd.to_numeric(optspectraltypes['dec']).fillna(np.nan).values*u.degree)\n",
    "\n",
    "    # converting matches csv coordinates\n",
    "    irspectraltypes_ra = coord.Angle(irspectraltypes['RA'].values*u.degree)\n",
    "    irspectraltypes_ra = irspectraltypes_ra.wrap_at(180*u.degree)\n",
    "    irspectraltypes_dec = coord.Angle(irspectraltypes['DEC'].values*u.degree)\n",
    "\n",
    "    # converting new_objects csv coordinates\n",
    "    nirspectraltypes_ra = coord.Angle(nirspectraltypes['RA'].values*u.degree)\n",
    "    nirspectraltypes_ra = nirspectraltypes_ra.wrap_at(180*u.degree)\n",
    "    nirspectraltypes_dec = coord.Angle(nirspectraltypes['DEC'].values*u.degree)\n",
    "    \n",
    "\n",
    "    fig = plt.figure(figsize=(14,12))\n",
    "    ax = fig.add_subplot(111, projection=\"mollweide\")\n",
    "    ax.set_facecolor('#17303F')\n",
    "    plt.grid(True)\n",
    "    ax.scatter(optspectraltypes_ra.radian, optspectraltypes_dec.radian, color=\"#E5E5E5\", alpha=.8, edgecolors='face', label='in BDNYC database')\n",
    "    ax.scatter(irspectraltypes_ra.radian, irspectraltypes_dec.radian, color=\"#F24333\", label='in BDNYC database and GAIA dataset')\n",
    "    ax.scatter(nirspectraltypes_ra.radian, nirspectraltypes_dec.radian, color=\"#E3B505\", label='in GAIA dataset')\n",
    "    ax.legend(loc=4)"
   ]
  },
  {
   "cell_type": "code",
   "execution_count": 39,
   "metadata": {},
   "outputs": [],
   "source": [
    "import astropy.coordinates as coord\n",
    "import astropy.units as u\n",
    "import matplotlib.pyplot as plt\n",
    "import numpy as np\n",
    "import pandas as pd"
   ]
  },
  {
   "cell_type": "code",
   "execution_count": 48,
   "metadata": {},
   "outputs": [],
   "source": [
    "OPT_spectraltype_ra = coord.Angle(pd.to_numeric(OPT_spectraltype['ra']).fillna(np.nan).values*u.degree)\n",
    "OPT_spectraltype_ra = OPT_spectraltype_ra.wrap_at(180*u.degree)\n",
    "OPT_spectraltype_dec = coord.Angle(pd.to_numeric(OPT_spectraltype['dec']).fillna(np.nan).values*u.degree)"
   ]
  },
  {
   "cell_type": "code",
   "execution_count": 55,
   "metadata": {},
   "outputs": [],
   "source": [
    "IR_spectraltype_ra = coord.Angle(IR_spectraltype['ra'].values*u.degree)\n",
    "IR_spectraltype_ra = IR_spectraltype_ra.wrap_at(180*u.degree)\n",
    "IR_spectraltype_dec = coord.Angle(IR_spectraltype['dec'].values*u.degree)"
   ]
  },
  {
   "cell_type": "code",
   "execution_count": 56,
   "metadata": {},
   "outputs": [],
   "source": [
    "NIR_spectraltype_ra = coord.Angle(NIR_spectraltype['ra'].values*u.degree)\n",
    "NIR_spectraltype_ra = NIR_spectraltype_ra.wrap_at(180*u.degree)\n",
    "NIR_spectraltype_dec = coord.Angle(NIR_spectraltype['dec'].values*u.degree)"
   ]
  },
  {
   "cell_type": "code",
   "execution_count": 59,
   "metadata": {},
   "outputs": [
    {
     "data": {
      "text/plain": [
       "<matplotlib.legend.Legend at 0x115f02470>"
      ]
     },
     "execution_count": 59,
     "metadata": {},
     "output_type": "execute_result"
    },
    {
     "data": {
      "image/png": "[encoded data removed]",
      "text/plain": [
       "<Figure size 1008x864 with 1 Axes>"
      ]
     },
     "metadata": {
      "needs_background": "light"
     },
     "output_type": "display_data"
    }
   ],
   "source": [
    "fig = plt.figure(figsize=(14,12))\n",
    "ax = fig.add_subplot(111, projection=\"mollweide\")\n",
    "ax.set_facecolor('#17303F')\n",
    "plt.grid(True)\n",
    "ax.scatter(OPT_spectraltype_ra.radian, OPT_spectraltype_dec.radian, color=\"#E5E5E5\", alpha=.8, edgecolors='face', label='in BDNYC database')\n",
    "ax.scatter(IR_spectraltype_ra.radian, IR_spectraltype_dec.radian, color=\"#F24333\", label='in BDNYC database and GAIA dataset')\n",
    "ax.scatter(NIR_spectraltype_ra.radian, NIR_spectraltype_dec.radian, color=\"#E3B505\", label='in GAIA dataset')\n",
    "ax.legend(loc=4)"
   ]
  },
  {
   "cell_type": "code",
   "execution_count": 92,
   "metadata": {},
   "outputs": [
    {
     "data": {
      "image/png": "[encoded data removed]",
      "text/plain": [
       "<Figure size 432x288 with 1 Axes>"
      ]
     },
     "metadata": {
      "needs_background": "light"
     },
     "output_type": "display_data"
    }
   ],
   "source": [
    "import matplotlib.pyplot as plt\n",
    "\n",
    "plt.scatter(NIR_spectraltype_ra,NIR_spectraltype_dec)\n",
    "plt.show()"
   ]
  },
  {
   "cell_type": "code",
   "execution_count": 93,
   "metadata": {},
   "outputs": [
    {
     "data": {
      "image/png": "[encoded data removed]",
      "text/plain": [
       "<Figure size 432x288 with 1 Axes>"
      ]
     },
     "metadata": {
      "needs_background": "light"
     },
     "output_type": "display_data"
    }
   ],
   "source": [
    "import matplotlib.pyplot as plt\n",
    "\n",
    "plt.scatter(NIR_spectraltype_dec,NIR_spectraltype_ra)\n",
    "plt.show()"
   ]
  },
  {
   "cell_type": "code",
   "execution_count": null,
   "metadata": {},
   "outputs": [],
   "source": []
  },
  {
   "cell_type": "code",
   "execution_count": null,
   "metadata": {},
   "outputs": [],
   "source": []
  }
 ],
 "metadata": {
  "kernelspec": {
   "display_name": "Python 3",
   "language": "python",
   "name": "python3"
  },
  "language_info": {
   "codemirror_mode": {
    "name": "ipython",
    "version": 3
   },
   "file_extension": ".py",
   "mimetype": "text/x-python",
   "name": "python",
   "nbconvert_exporter": "python",
   "pygments_lexer": "ipython3",
   "version": "3.7.3"
  }
 },
 "nbformat": 4,
 "nbformat_minor": 2
}
